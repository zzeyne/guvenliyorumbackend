{
 "cells": [
  {
   "cell_type": "code",
   "execution_count": 1,
   "id": "9c538e97",
   "metadata": {},
   "outputs": [
    {
     "name": "stderr",
     "output_type": "stream",
     "text": [
      "C:\\Users\\Lenovo\\AppData\\Roaming\\Python\\Python312\\site-packages\\tqdm\\auto.py:21: TqdmWarning: IProgress not found. Please update jupyter and ipywidgets. See https://ipywidgets.readthedocs.io/en/stable/user_install.html\n",
      "  from .autonotebook import tqdm as notebook_tqdm\n"
     ]
    },
    {
     "name": "stdout",
     "output_type": "stream",
     "text": [
      "🔄 Detoxify modeli yükleniyor...\n",
      "✅ Detoxify modeli başarıyla yüklendi.\n"
     ]
    }
   ],
   "source": [
    "from fastapi import FastAPI\n",
    "from pydantic import BaseModel\n",
    "from fastapi.middleware.cors import CORSMiddleware\n",
    "from detoxify import Detoxifypip \n",
    "\n",
    "\n",
    "from contextlib import asynccontextmanager\n",
    "\n",
    "# Detoxify modeli yalnızca bir kez yüklenir\n",
    "print(\"🔄 Detoxify modeli yükleniyor...\")\n",
    "model = Detoxify('original')\n",
    "print(\"✅ Detoxify modeli başarıyla yüklendi.\")\n",
    "\n",
    "# Lifespan handler tanımlayın\n",
    "@asynccontextmanager\n",
    "async def lifespan(app: FastAPI):\n",
    "    print(\"✅ Backend uygulaması başlatılıyor...\")\n",
    "    yield  # Uygulama başlatılırken yapılacak işlemler burada biter\n",
    "    print(\"🛑 Backend uygulaması kapatılıyor.\")\n",
    "\n",
    "# FastAPI uygulamasını başlat\n",
    "app = FastAPI(lifespan=lifespan)\n",
    "\n",
    "# CORS ayarları\n",
    "app.add_middleware(\n",
    "    CORSMiddleware,\n",
    "    allow_origins=[\"http://localhost:3000\"],  # React uygulamanızın URL'si\n",
    "    allow_credentials=True,\n",
    "    allow_methods=[\"*\"],\n",
    "    allow_headers=[\"*\"],\n",
    ")\n",
    "\n",
    "# Kullanıcıdan gelen veriyi tanımlayan sınıf\n",
    "class InputText(BaseModel):\n",
    "    text: str\n",
    "\n",
    "# Ana sayfa\n",
    "@app.get(\"/\")\n",
    "def root():\n",
    "    print(\"🌐 Ana sayfa endpoint çağrıldı.\")\n",
    "    return {\"message\": \"Detoxify API'ye hoş geldiniz!\"}\n",
    "\n",
    "# Cümle analiz endpoint'i\n",
    "@app.post(\"/analyze\")\n",
    "def analyze_text(input_text: InputText):\n",
    "    print(f\"📨 Gelen metin: {input_text.text}\")\n",
    "\n",
    "    if not input_text.text.strip():\n",
    "        print(\"⚠️ Boş metin gönderildi.\")\n",
    "        return {\"error\": \"Lütfen analiz edilecek bir metin giriniz.\"}\n",
    "\n",
    "    try:\n",
    "        # Kullanıcının gönderdiği metni Detoxify modeli ile analiz et\n",
    "        results = model.predict(input_text.text)\n",
    "        print(f\"🧪 Analiz sonuçları: {results}\")\n",
    "    except Exception as e:\n",
    "        print(f\"❌ Analiz sırasında bir hata oluştu: {str(e)}\")\n",
    "        return {\"error\": f\"Analiz sırasında bir hata oluştu: {str(e)}\"}\n",
    "\n",
    "    # Türk Ceza Kanunu (TCK) eşleştirmesi\n",
    "    tck_mapping = {\n",
    "        \"threat\": {\"tck\": \"TCK 106\", \"açıklama\": \"Tehdit\"},\n",
    "        \"insult\": {\"tck\": \"TCK 125\", \"açıklama\": \"Hakaret\"},\n",
    "        \"obscene\": {\"tck\": \"TCK 226\", \"açıklama\": \"Müstehcenlik\"},\n",
    "        \"toxicity\": {\"tck\": \"TCK 216\", \"açıklama\": \"Halkı kin ve düşmanlığa tahrik\"},\n",
    "        \"severe_toxicity\": {\"tck\": \"TCK 216\", \"açıklama\": \"Ciddi toksik içerik\"},\n",
    "        \"identity_attack\": {\"tck\": \"TCK 216\", \"açıklama\": \"Kimlik saldırısı\"},\n",
    "    }\n",
    "\n",
    "    # Skorları TCK maddeleriyle eşleştir\n",
    "    response = []\n",
    "    for key, value in results.items():\n",
    "        if key in tck_mapping and value > 0.2:  # Eşik değerini %20 olarak ayarladık\n",
    "            response.append({\n",
    "                \"tur\": key,\n",
    "                \"tck\": tck_mapping[key][\"tck\"],\n",
    "                \"aciklama\": tck_mapping[key][\"açıklama\"],\n",
    "                \"skor\": round(value, 2)\n",
    "            })\n",
    "\n",
    "    print(f\"🔍 Döndürülen sonuç: {response}\")\n",
    "    return {\"analyze_results\": response}\n"
   ]
  }
 ],
 "metadata": {
  "kernelspec": {
   "display_name": "Python 3",
   "language": "python",
   "name": "python3"
  },
  "language_info": {
   "codemirror_mode": {
    "name": "ipython",
    "version": 3
   },
   "file_extension": ".py",
   "mimetype": "text/x-python",
   "name": "python",
   "nbconvert_exporter": "python",
   "pygments_lexer": "ipython3",
   "version": "3.8.8"
  }
 },
 "nbformat": 4,
 "nbformat_minor": 5
}
